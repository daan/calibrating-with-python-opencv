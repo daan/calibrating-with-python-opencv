{
 "cells": [
  {
   "cell_type": "code",
   "execution_count": 1,
   "metadata": {},
   "outputs": [],
   "source": [
    "import cv2\n",
    "import os\n",
    "import numpy as np"
   ]
  },
  {
   "cell_type": "code",
   "execution_count": 8,
   "metadata": {},
   "outputs": [
    {
     "name": "stdout",
     "output_type": "stream",
     "text": [
      "('509.yml', '18284509.xml')\n"
     ]
    }
   ],
   "source": [
    "input_folder = \"../20181108/Flir\"\n",
    "output_folder = \"../20181108/Flir_openpose_calibrations\"\n",
    "\n",
    "filenames = [\n",
    "    ('509.yml', '18284509.xml'),\n",
    "    ('511.yml', '18284511.xml'),\n",
    "    ('512.yml', '18284512.xml')\n",
    "]\n",
    "\n",
    "os.makedirs(output_folder, exist_ok=True)\n",
    "\n",
    "for filename in filenames:\n",
    "    print(filename)\n",
    "    input_path = os.path.join(input_folder, filename[0])\n",
    "    output_path = os.path.join(output_folder, filename[1])\n",
    "    \n",
    "    input_fs = cv2.FileStorage(input_path, cv2.FILE_STORAGE_READ)\n",
    "    \n",
    "    camera_matrix = input_fs.getNode('camera_matrix').mat()\n",
    "    distortion_coefficients = input_fs.getNode('distortion_coefficients').mat()\n",
    "    rotation_vector = input_fs.getNode('rotationVector').mat()\n",
    "    translation = input_fs.getNode('translation').mat()\n",
    "    rotation_matrix = input_fs.getNode('rotationMatrix').mat()\n",
    "    \n",
    "    projection_matrix = np.concatenate((rotation_matrix, translation), axis=1)\n",
    "    \n",
    "    input_fs.release()\n",
    "    \n",
    "    output_fs = cv2.FileStorage(output_path, cv2.FILE_STORAGE_WRITE)\n",
    "    \n",
    "    output_fs.write(\"CameraMatrix\", projection_matrix)\n",
    "    output_fs.write(\"Intrinsics\", camera_matrix)\n",
    "    output_fs.write(\"Distortion\", distortion_coefficients)\n",
    "    \n",
    "    output_fs.release()\n",
    "    \n",
    "    break\n"
   ]
  },
  {
   "cell_type": "code",
   "execution_count": 18,
   "metadata": {},
   "outputs": [
    {
     "data": {
      "text/plain": [
       "array([[ 0.83698698,  0.0215185 ,  0.54679955],\n",
       "       [-0.02037965,  0.9997591 , -0.0081489 ],\n",
       "       [-0.54684318, -0.00432306,  0.83722389]])"
      ]
     },
     "execution_count": 18,
     "metadata": {},
     "output_type": "execute_result"
    }
   ],
   "source": [
    "rotation_matrix.transpose()"
   ]
  },
  {
   "cell_type": "code",
   "execution_count": 24,
   "metadata": {},
   "outputs": [
    {
     "data": {
      "text/plain": [
       "array([[ 1.30883458],\n",
       "       [-1.30143016],\n",
       "       [-0.77222864]])"
      ]
     },
     "execution_count": 24,
     "metadata": {},
     "output_type": "execute_result"
    }
   ],
   "source": [
    "np.dot(np.linalg.inv(rotation_matrix), translation)"
   ]
  }
 ],
 "metadata": {
  "kernelspec": {
   "display_name": "Python 3",
   "language": "python",
   "name": "python3"
  },
  "language_info": {
   "codemirror_mode": {
    "name": "ipython",
    "version": 3
   },
   "file_extension": ".py",
   "mimetype": "text/x-python",
   "name": "python",
   "nbconvert_exporter": "python",
   "pygments_lexer": "ipython3",
   "version": "3.6.7"
  }
 },
 "nbformat": 4,
 "nbformat_minor": 2
}
